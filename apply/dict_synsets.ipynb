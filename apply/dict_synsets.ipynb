{
 "cells": [
  {
   "cell_type": "code",
   "execution_count": 1,
   "metadata": {
    "collapsed": false
   },
   "outputs": [],
   "source": [
    "import pandas as pd\n",
    "import os\n",
    "import json\n",
    "from itertools import chain\n",
    "from collections import defaultdict\n",
    "import dask.dataframe as dd\n",
    "import time"
   ]
  },
  {
   "cell_type": "code",
   "execution_count": 2,
   "metadata": {
    "collapsed": false
   },
   "outputs": [],
   "source": [
    "new_yarn = pd.read_csv('new_yarn.csv')\n",
    "synsets_with_no_definitions = pd.read_csv('synsets_with_no_defs')"
   ]
  },
  {
   "cell_type": "code",
   "execution_count": 3,
   "metadata": {
    "collapsed": true
   },
   "outputs": [],
   "source": [
    "new_yarn = pd.concat([new_yarn, synsets_with_no_definitions], sort=False)"
   ]
  },
  {
   "cell_type": "code",
   "execution_count": 4,
   "metadata": {
    "collapsed": true
   },
   "outputs": [],
   "source": [
    "del synsets_with_no_definitions"
   ]
  },
  {
   "cell_type": "code",
   "execution_count": 60,
   "metadata": {
    "collapsed": true
   },
   "outputs": [],
   "source": [
    "new_yarn.reset_index(inplace=True)"
   ]
  },
  {
   "cell_type": "code",
   "execution_count": 5,
   "metadata": {
    "collapsed": false
   },
   "outputs": [
    {
     "data": {
      "text/plain": [
       "Unnamed: 0                                     0\n",
       "triple_merged_by                      1797;39963\n",
       "words                автомобиль;драндулет;машина\n",
       "def_ids                         1797;71159;39963\n",
       "length_in_words                                3\n",
       "length_in_def_ids                              3\n",
       "yarn_id                                      NaN\n",
       "Name: 0, dtype: object"
      ]
     },
     "execution_count": 5,
     "metadata": {},
     "output_type": "execute_result"
    }
   ],
   "source": [
    "new_yarn.iloc[0]"
   ]
  },
  {
   "cell_type": "code",
   "execution_count": 6,
   "metadata": {
    "collapsed": false
   },
   "outputs": [
    {
     "data": {
      "text/plain": [
       "(99505, 7)"
      ]
     },
     "execution_count": 6,
     "metadata": {},
     "output_type": "execute_result"
    }
   ],
   "source": [
    "new_yarn.shape"
   ]
  },
  {
   "cell_type": "code",
   "execution_count": 7,
   "metadata": {
    "collapsed": false
   },
   "outputs": [],
   "source": [
    "new_yarn = dd.from_pandas(new_yarn, npartitions=4)"
   ]
  },
  {
   "cell_type": "code",
   "execution_count": 8,
   "metadata": {
    "collapsed": false
   },
   "outputs": [],
   "source": [
    "def find_dict_synsets(dict_synsets_by_length, yarn_synset):\n",
    "    yarn_synset = set(yarn_synset.split(';'))\n",
    "    return [';'.join(s) for i in range(1, len(yarn_synset)+1) for s in dict_synsets_by_length[i] if s.issubset(yarn_synset)]"
   ]
  },
  {
   "cell_type": "code",
   "execution_count": 9,
   "metadata": {
    "collapsed": false
   },
   "outputs": [
    {
     "name": "stdout",
     "output_type": "stream",
     "text": [
      "Processing ruTes\n",
      "Raw lines: 96700\n",
      "Unique synsets: 22722\n",
      "\n",
      "Processing babenko\n",
      "Raw lines: 4988\n",
      "Unique synsets: 4864\n",
      "\n",
      "Processing evgenieva\n",
      "Raw lines: 5441\n",
      "Unique synsets: 5429\n",
      "\n"
     ]
    }
   ],
   "source": [
    "for dictionary in ['ruTes', 'babenko', 'evgenieva']:\n",
    "    print('Processing {}'.format(dictionary))\n",
    "    raw = []\n",
    "    with open(os.path.join('..', 'db', 'data', 'dicts', '{}_final.json'.format(dictionary)), encoding='utf8') as f:\n",
    "        for line in f:\n",
    "            raw.append(json.loads(line))\n",
    "    print('Raw lines: {}'.format(len(raw)))\n",
    "    raw_synsets = set()\n",
    "    for entry in raw:\n",
    "        if 'synonym' in entry:\n",
    "            for syn in entry['synonym']:\n",
    "                raw_synsets.add(';'.join(sorted(x.lower() for x in chain(syn, entry['word']))))\n",
    "    print('Unique synsets: {}'.format(len(raw_synsets)))\n",
    "    synsets_by_length = defaultdict(list)\n",
    "    for s in raw_synsets:\n",
    "        synset = set(s.split(';'))\n",
    "        synsets_by_length[len(synset)].append(synset)\n",
    "        \n",
    "    new_yarn[dictionary] = new_yarn.map_partitions(lambda df: df.apply(lambda x: find_dict_synsets(synsets_by_length, \n",
    "                                                                                                                x.words), \n",
    "                                                                 axis=1)).compute(scheduler='processes')\n",
    "    print()"
   ]
  },
  {
   "cell_type": "code",
   "execution_count": 11,
   "metadata": {
    "collapsed": true
   },
   "outputs": [],
   "source": [
    "new_yarn = new_yarn.compute()"
   ]
  },
  {
   "cell_type": "code",
   "execution_count": 82,
   "metadata": {
    "collapsed": false
   },
   "outputs": [
    {
     "data": {
      "text/html": [
       "<div>\n",
       "<style scoped>\n",
       "    .dataframe tbody tr th:only-of-type {\n",
       "        vertical-align: middle;\n",
       "    }\n",
       "\n",
       "    .dataframe tbody tr th {\n",
       "        vertical-align: top;\n",
       "    }\n",
       "\n",
       "    .dataframe thead th {\n",
       "        text-align: right;\n",
       "    }\n",
       "</style>\n",
       "<table border=\"1\" class=\"dataframe\">\n",
       "  <thead>\n",
       "    <tr style=\"text-align: right;\">\n",
       "      <th></th>\n",
       "      <th>index</th>\n",
       "      <th>Unnamed: 0</th>\n",
       "      <th>triple_merged_by</th>\n",
       "      <th>words</th>\n",
       "      <th>def_ids</th>\n",
       "      <th>length_in_words</th>\n",
       "      <th>length_in_def_ids</th>\n",
       "      <th>yarn_id</th>\n",
       "      <th>ruTes</th>\n",
       "      <th>babenko</th>\n",
       "      <th>evgenieva</th>\n",
       "      <th>ruTes_diff</th>\n",
       "      <th>babenko_diff</th>\n",
       "      <th>evgenieva_diff</th>\n",
       "    </tr>\n",
       "  </thead>\n",
       "  <tbody>\n",
       "    <tr>\n",
       "      <th>0</th>\n",
       "      <td>0</td>\n",
       "      <td>0</td>\n",
       "      <td>1797;39963</td>\n",
       "      <td>автомобиль;драндулет;машина</td>\n",
       "      <td>1797;71159;39963</td>\n",
       "      <td>3.0</td>\n",
       "      <td>3.0</td>\n",
       "      <td>NaN</td>\n",
       "      <td>[]</td>\n",
       "      <td>[]</td>\n",
       "      <td>[]</td>\n",
       "      <td>NaN</td>\n",
       "      <td>NaN</td>\n",
       "      <td>NaN</td>\n",
       "    </tr>\n",
       "    <tr>\n",
       "      <th>1</th>\n",
       "      <td>0</td>\n",
       "      <td>8</td>\n",
       "      <td>NaN</td>\n",
       "      <td>колёса</td>\n",
       "      <td>NaN</td>\n",
       "      <td>NaN</td>\n",
       "      <td>NaN</td>\n",
       "      <td>1.0</td>\n",
       "      <td>[]</td>\n",
       "      <td>[]</td>\n",
       "      <td>[]</td>\n",
       "      <td>NaN</td>\n",
       "      <td>NaN</td>\n",
       "      <td>NaN</td>\n",
       "    </tr>\n",
       "    <tr>\n",
       "      <th>2</th>\n",
       "      <td>1</td>\n",
       "      <td>2</td>\n",
       "      <td>39963;71159</td>\n",
       "      <td>автомобиль;драндулет;машина;прибор</td>\n",
       "      <td>1797;71159;39963;108163</td>\n",
       "      <td>4.0</td>\n",
       "      <td>4.0</td>\n",
       "      <td>NaN</td>\n",
       "      <td>[]</td>\n",
       "      <td>[]</td>\n",
       "      <td>[]</td>\n",
       "      <td>NaN</td>\n",
       "      <td>NaN</td>\n",
       "      <td>NaN</td>\n",
       "    </tr>\n",
       "    <tr>\n",
       "      <th>3</th>\n",
       "      <td>1</td>\n",
       "      <td>104</td>\n",
       "      <td>NaN</td>\n",
       "      <td>дружбан</td>\n",
       "      <td>NaN</td>\n",
       "      <td>NaN</td>\n",
       "      <td>NaN</td>\n",
       "      <td>13.0</td>\n",
       "      <td>[]</td>\n",
       "      <td>[]</td>\n",
       "      <td>[]</td>\n",
       "      <td>NaN</td>\n",
       "      <td>NaN</td>\n",
       "      <td>NaN</td>\n",
       "    </tr>\n",
       "    <tr>\n",
       "      <th>4</th>\n",
       "      <td>2</td>\n",
       "      <td>3</td>\n",
       "      <td>1549;1774</td>\n",
       "      <td>авто;автомашина;автомобиль;кабриолет;легковая ...</td>\n",
       "      <td>148085;1774;66305;1549;71160;1797;54389;167404...</td>\n",
       "      <td>10.0</td>\n",
       "      <td>9.0</td>\n",
       "      <td>NaN</td>\n",
       "      <td>[]</td>\n",
       "      <td>[]</td>\n",
       "      <td>[автомобиль;машина;авто;автомашина]</td>\n",
       "      <td>NaN</td>\n",
       "      <td>NaN</td>\n",
       "      <td>6.0</td>\n",
       "    </tr>\n",
       "    <tr>\n",
       "      <th>5</th>\n",
       "      <td>2</td>\n",
       "      <td>132</td>\n",
       "      <td>NaN</td>\n",
       "      <td>в преклонном возрасте;в почтенных летах</td>\n",
       "      <td>NaN</td>\n",
       "      <td>NaN</td>\n",
       "      <td>NaN</td>\n",
       "      <td>17.0</td>\n",
       "      <td>[]</td>\n",
       "      <td>[]</td>\n",
       "      <td>[]</td>\n",
       "      <td>NaN</td>\n",
       "      <td>NaN</td>\n",
       "      <td>NaN</td>\n",
       "    </tr>\n",
       "    <tr>\n",
       "      <th>6</th>\n",
       "      <td>3</td>\n",
       "      <td>6</td>\n",
       "      <td>71161</td>\n",
       "      <td>машина</td>\n",
       "      <td>71161</td>\n",
       "      <td>1.0</td>\n",
       "      <td>1.0</td>\n",
       "      <td>NaN</td>\n",
       "      <td>[]</td>\n",
       "      <td>[]</td>\n",
       "      <td>[]</td>\n",
       "      <td>NaN</td>\n",
       "      <td>NaN</td>\n",
       "      <td>NaN</td>\n",
       "    </tr>\n",
       "    <tr>\n",
       "      <th>7</th>\n",
       "      <td>3</td>\n",
       "      <td>1058</td>\n",
       "      <td>NaN</td>\n",
       "      <td>материнка</td>\n",
       "      <td>NaN</td>\n",
       "      <td>NaN</td>\n",
       "      <td>NaN</td>\n",
       "      <td>112.0</td>\n",
       "      <td>[]</td>\n",
       "      <td>[]</td>\n",
       "      <td>[]</td>\n",
       "      <td>NaN</td>\n",
       "      <td>NaN</td>\n",
       "      <td>NaN</td>\n",
       "    </tr>\n",
       "    <tr>\n",
       "      <th>8</th>\n",
       "      <td>4</td>\n",
       "      <td>7</td>\n",
       "      <td>179054</td>\n",
       "      <td>тачка</td>\n",
       "      <td>179054</td>\n",
       "      <td>1.0</td>\n",
       "      <td>1.0</td>\n",
       "      <td>NaN</td>\n",
       "      <td>[]</td>\n",
       "      <td>[]</td>\n",
       "      <td>[]</td>\n",
       "      <td>NaN</td>\n",
       "      <td>NaN</td>\n",
       "      <td>NaN</td>\n",
       "    </tr>\n",
       "    <tr>\n",
       "      <th>9</th>\n",
       "      <td>4</td>\n",
       "      <td>1320</td>\n",
       "      <td>NaN</td>\n",
       "      <td>начальная школа</td>\n",
       "      <td>NaN</td>\n",
       "      <td>NaN</td>\n",
       "      <td>NaN</td>\n",
       "      <td>149.0</td>\n",
       "      <td>[]</td>\n",
       "      <td>[]</td>\n",
       "      <td>[]</td>\n",
       "      <td>NaN</td>\n",
       "      <td>NaN</td>\n",
       "      <td>NaN</td>\n",
       "    </tr>\n",
       "  </tbody>\n",
       "</table>\n",
       "</div>"
      ],
      "text/plain": [
       "   index  Unnamed: 0 triple_merged_by  \\\n",
       "0      0           0       1797;39963   \n",
       "1      0           8              NaN   \n",
       "2      1           2      39963;71159   \n",
       "3      1         104              NaN   \n",
       "4      2           3        1549;1774   \n",
       "5      2         132              NaN   \n",
       "6      3           6            71161   \n",
       "7      3        1058              NaN   \n",
       "8      4           7           179054   \n",
       "9      4        1320              NaN   \n",
       "\n",
       "                                               words  \\\n",
       "0                        автомобиль;драндулет;машина   \n",
       "1                                             колёса   \n",
       "2                 автомобиль;драндулет;машина;прибор   \n",
       "3                                            дружбан   \n",
       "4  авто;автомашина;автомобиль;кабриолет;легковая ...   \n",
       "5            в преклонном возрасте;в почтенных летах   \n",
       "6                                             машина   \n",
       "7                                          материнка   \n",
       "8                                              тачка   \n",
       "9                                    начальная школа   \n",
       "\n",
       "                                             def_ids  length_in_words  \\\n",
       "0                                   1797;71159;39963              3.0   \n",
       "1                                                NaN              NaN   \n",
       "2                            1797;71159;39963;108163              4.0   \n",
       "3                                                NaN              NaN   \n",
       "4  148085;1774;66305;1549;71160;1797;54389;167404...             10.0   \n",
       "5                                                NaN              NaN   \n",
       "6                                              71161              1.0   \n",
       "7                                                NaN              NaN   \n",
       "8                                             179054              1.0   \n",
       "9                                                NaN              NaN   \n",
       "\n",
       "   length_in_def_ids  yarn_id ruTes babenko  \\\n",
       "0                3.0      NaN    []      []   \n",
       "1                NaN      1.0    []      []   \n",
       "2                4.0      NaN    []      []   \n",
       "3                NaN     13.0    []      []   \n",
       "4                9.0      NaN    []      []   \n",
       "5                NaN     17.0    []      []   \n",
       "6                1.0      NaN    []      []   \n",
       "7                NaN    112.0    []      []   \n",
       "8                1.0      NaN    []      []   \n",
       "9                NaN    149.0    []      []   \n",
       "\n",
       "                             evgenieva  ruTes_diff  babenko_diff  \\\n",
       "0                                   []         NaN           NaN   \n",
       "1                                   []         NaN           NaN   \n",
       "2                                   []         NaN           NaN   \n",
       "3                                   []         NaN           NaN   \n",
       "4  [автомобиль;машина;авто;автомашина]         NaN           NaN   \n",
       "5                                   []         NaN           NaN   \n",
       "6                                   []         NaN           NaN   \n",
       "7                                   []         NaN           NaN   \n",
       "8                                   []         NaN           NaN   \n",
       "9                                   []         NaN           NaN   \n",
       "\n",
       "   evgenieva_diff  \n",
       "0             NaN  \n",
       "1             NaN  \n",
       "2             NaN  \n",
       "3             NaN  \n",
       "4             6.0  \n",
       "5             NaN  \n",
       "6             NaN  \n",
       "7             NaN  \n",
       "8             NaN  \n",
       "9             NaN  "
      ]
     },
     "execution_count": 82,
     "metadata": {},
     "output_type": "execute_result"
    }
   ],
   "source": [
    "new_yarn.head(10)"
   ]
  },
  {
   "cell_type": "markdown",
   "metadata": {},
   "source": [
    "## ruTes"
   ]
  },
  {
   "cell_type": "code",
   "execution_count": 24,
   "metadata": {
    "collapsed": false
   },
   "outputs": [
    {
     "data": {
      "text/html": [
       "<div>\n",
       "<style scoped>\n",
       "    .dataframe tbody tr th:only-of-type {\n",
       "        vertical-align: middle;\n",
       "    }\n",
       "\n",
       "    .dataframe tbody tr th {\n",
       "        vertical-align: top;\n",
       "    }\n",
       "\n",
       "    .dataframe thead th {\n",
       "        text-align: right;\n",
       "    }\n",
       "</style>\n",
       "<table border=\"1\" class=\"dataframe\">\n",
       "  <thead>\n",
       "    <tr style=\"text-align: right;\">\n",
       "      <th></th>\n",
       "      <th>words</th>\n",
       "      <th>ruTes</th>\n",
       "    </tr>\n",
       "  </thead>\n",
       "  <tbody>\n",
       "    <tr>\n",
       "      <th>97</th>\n",
       "      <td>авторитет;благородство;важность;величавость;до...</td>\n",
       "      <td>[значение;значимость, пальма первенства;первен...</td>\n",
       "    </tr>\n",
       "    <tr>\n",
       "      <th>99</th>\n",
       "      <td>важность;значение;значимость;значительность;ро...</td>\n",
       "      <td>[значение;значимость, значение;ценность;роль;в...</td>\n",
       "    </tr>\n",
       "    <tr>\n",
       "      <th>953</th>\n",
       "      <td>капелька;капля;кроха;крохотка;крошка;крупинка;...</td>\n",
       "      <td>[кроха;крошка, крупинка;крупица, крошка;крупиц...</td>\n",
       "    </tr>\n",
       "    <tr>\n",
       "      <th>1056</th>\n",
       "      <td>дорога;манера;норма;образ;обряд;организация;оч...</td>\n",
       "      <td>[упорядоченность;порядок, образ;средство;способ]</td>\n",
       "    </tr>\n",
       "    <tr>\n",
       "      <th>1239</th>\n",
       "      <td>звание;категория;класс;разряд;ранг;степень;точ...</td>\n",
       "      <td>[звание;ранг, класс;ранг]</td>\n",
       "    </tr>\n",
       "    <tr>\n",
       "      <th>1242</th>\n",
       "      <td>звание;категория;класс;разряд;ранг;степень;уро...</td>\n",
       "      <td>[звание;ранг, класс;ранг]</td>\n",
       "    </tr>\n",
       "    <tr>\n",
       "      <th>1244</th>\n",
       "      <td>вид;гильдия;группа;жанр;звание;каста;категория...</td>\n",
       "      <td>[звание;ранг, класс;ранг]</td>\n",
       "    </tr>\n",
       "    <tr>\n",
       "      <th>1926</th>\n",
       "      <td>артист;дока;знаток;мастер;специалист;эксперт</td>\n",
       "      <td>[специалист;эксперт, дока;знаток]</td>\n",
       "    </tr>\n",
       "    <tr>\n",
       "      <th>3033</th>\n",
       "      <td>артист;дока;знаток;знающий;искусный;мастер;спе...</td>\n",
       "      <td>[специалист;эксперт, дока;знаток]</td>\n",
       "    </tr>\n",
       "    <tr>\n",
       "      <th>3037</th>\n",
       "      <td>дока;знаток;мастер;специалист;эксперт</td>\n",
       "      <td>[специалист;эксперт, дока;знаток]</td>\n",
       "    </tr>\n",
       "    <tr>\n",
       "      <th>8070</th>\n",
       "      <td>авторитет;благородство;важность;величавость;ве...</td>\n",
       "      <td>[пальма первенства;первенство, значение;ценнос...</td>\n",
       "    </tr>\n",
       "    <tr>\n",
       "      <th>13674</th>\n",
       "      <td>горсть;капелька;капля;кроха;крохотка;крошка;кр...</td>\n",
       "      <td>[крошка;кроха, крупица;крупинка, крупица;капля...</td>\n",
       "    </tr>\n",
       "    <tr>\n",
       "      <th>16082</th>\n",
       "      <td>звание;класс;ранг;сословие;степень;титул;чин</td>\n",
       "      <td>[ранг;звание, ранг;класс]</td>\n",
       "    </tr>\n",
       "    <tr>\n",
       "      <th>16084</th>\n",
       "      <td>гильдия;должность;звание;каста;класс;корпораци...</td>\n",
       "      <td>[ранг;звание, ранг;класс]</td>\n",
       "    </tr>\n",
       "    <tr>\n",
       "      <th>16980</th>\n",
       "      <td>бенефис;действо;зрелище;картина;комедия;лицеде...</td>\n",
       "      <td>[картина;зрелище, действо;представление;постан...</td>\n",
       "    </tr>\n",
       "    <tr>\n",
       "      <th>21872</th>\n",
       "      <td>настояние;просьба;прошение;требование;упрашива...</td>\n",
       "      <td>[настояние;требование, ходатайство;прошение]</td>\n",
       "    </tr>\n",
       "    <tr>\n",
       "      <th>22606</th>\n",
       "      <td>колонна;линия;ряд;строй;торговый ряд;цепь</td>\n",
       "      <td>[торговый ряд;ряд, линия;ряд]</td>\n",
       "    </tr>\n",
       "    <tr>\n",
       "      <th>23039</th>\n",
       "      <td>звание;класс;ранг;степень</td>\n",
       "      <td>[ранг;звание, ранг;класс]</td>\n",
       "    </tr>\n",
       "    <tr>\n",
       "      <th>23040</th>\n",
       "      <td>гильдия;звание;каста;класс;корпорация;разряд;р...</td>\n",
       "      <td>[ранг;звание, ранг;класс]</td>\n",
       "    </tr>\n",
       "    <tr>\n",
       "      <th>38796</th>\n",
       "      <td>дока;знаток;мастер;профессионал;специалист;экс...</td>\n",
       "      <td>[специалист;эксперт, дока;знаток]</td>\n",
       "    </tr>\n",
       "    <tr>\n",
       "      <th>48785</th>\n",
       "      <td>линия;ряд;торговый ряд</td>\n",
       "      <td>[торговый ряд;ряд, линия;ряд]</td>\n",
       "    </tr>\n",
       "  </tbody>\n",
       "</table>\n",
       "</div>"
      ],
      "text/plain": [
       "                                                   words  \\\n",
       "97     авторитет;благородство;важность;величавость;до...   \n",
       "99     важность;значение;значимость;значительность;ро...   \n",
       "953    капелька;капля;кроха;крохотка;крошка;крупинка;...   \n",
       "1056   дорога;манера;норма;образ;обряд;организация;оч...   \n",
       "1239   звание;категория;класс;разряд;ранг;степень;точ...   \n",
       "1242   звание;категория;класс;разряд;ранг;степень;уро...   \n",
       "1244   вид;гильдия;группа;жанр;звание;каста;категория...   \n",
       "1926        артист;дока;знаток;мастер;специалист;эксперт   \n",
       "3033   артист;дока;знаток;знающий;искусный;мастер;спе...   \n",
       "3037               дока;знаток;мастер;специалист;эксперт   \n",
       "8070   авторитет;благородство;важность;величавость;ве...   \n",
       "13674  горсть;капелька;капля;кроха;крохотка;крошка;кр...   \n",
       "16082       звание;класс;ранг;сословие;степень;титул;чин   \n",
       "16084  гильдия;должность;звание;каста;класс;корпораци...   \n",
       "16980  бенефис;действо;зрелище;картина;комедия;лицеде...   \n",
       "21872  настояние;просьба;прошение;требование;упрашива...   \n",
       "22606          колонна;линия;ряд;строй;торговый ряд;цепь   \n",
       "23039                          звание;класс;ранг;степень   \n",
       "23040  гильдия;звание;каста;класс;корпорация;разряд;р...   \n",
       "38796  дока;знаток;мастер;профессионал;специалист;экс...   \n",
       "48785                             линия;ряд;торговый ряд   \n",
       "\n",
       "                                                   ruTes  \n",
       "97     [значение;значимость, пальма первенства;первен...  \n",
       "99     [значение;значимость, значение;ценность;роль;в...  \n",
       "953    [кроха;крошка, крупинка;крупица, крошка;крупиц...  \n",
       "1056    [упорядоченность;порядок, образ;средство;способ]  \n",
       "1239                           [звание;ранг, класс;ранг]  \n",
       "1242                           [звание;ранг, класс;ранг]  \n",
       "1244                           [звание;ранг, класс;ранг]  \n",
       "1926                   [специалист;эксперт, дока;знаток]  \n",
       "3033                   [специалист;эксперт, дока;знаток]  \n",
       "3037                   [специалист;эксперт, дока;знаток]  \n",
       "8070   [пальма первенства;первенство, значение;ценнос...  \n",
       "13674  [крошка;кроха, крупица;крупинка, крупица;капля...  \n",
       "16082                          [ранг;звание, ранг;класс]  \n",
       "16084                          [ранг;звание, ранг;класс]  \n",
       "16980  [картина;зрелище, действо;представление;постан...  \n",
       "21872       [настояние;требование, ходатайство;прошение]  \n",
       "22606                      [торговый ряд;ряд, линия;ряд]  \n",
       "23039                          [ранг;звание, ранг;класс]  \n",
       "23040                          [ранг;звание, ранг;класс]  \n",
       "38796                  [специалист;эксперт, дока;знаток]  \n",
       "48785                      [торговый ряд;ряд, линия;ряд]  "
      ]
     },
     "execution_count": 24,
     "metadata": {},
     "output_type": "execute_result"
    }
   ],
   "source": [
    "new_yarn[new_yarn.ruTes.map(len) >= 2][['words', 'ruTes']]"
   ]
  },
  {
   "cell_type": "code",
   "execution_count": 40,
   "metadata": {
    "collapsed": false
   },
   "outputs": [],
   "source": [
    "def yarn_dict_diff(row, dict_name):\n",
    "    if len(row[dict_name]) == 0:\n",
    "        return None\n",
    "    return len(row.words.split(';')) - len(row[dict_name][0].split(';'))\n",
    "\n",
    "new_yarn['ruTes_diff'] = new_yarn.apply(lambda row: yarn_dict_diff(row, 'ruTes'), axis=1)\n",
    "new_yarn['babenko_diff'] = new_yarn.apply(lambda row: yarn_dict_diff(row, 'babenko'), axis=1)\n",
    "new_yarn['evgenieva_diff'] = new_yarn.apply(lambda row: yarn_dict_diff(row, 'evgenieva'), axis=1)"
   ]
  },
  {
   "cell_type": "code",
   "execution_count": 47,
   "metadata": {
    "collapsed": false
   },
   "outputs": [
    {
     "data": {
      "text/plain": [
       "count    388.000000\n",
       "mean       7.030928\n",
       "std        6.508517\n",
       "min        1.000000\n",
       "25%        2.000000\n",
       "50%        5.000000\n",
       "75%       10.000000\n",
       "max       33.000000\n",
       "Name: ruTes_diff, dtype: float64"
      ]
     },
     "execution_count": 47,
     "metadata": {},
     "output_type": "execute_result"
    }
   ],
   "source": [
    "new_yarn[new_yarn.ruTes_diff.astype(bool) & (new_yarn.ruTes_diff > 0)].ruTes_diff.describe()"
   ]
  },
  {
   "cell_type": "code",
   "execution_count": 87,
   "metadata": {
    "collapsed": false
   },
   "outputs": [
    {
     "data": {
      "text/plain": [
       "count    62.0\n",
       "mean      1.0\n",
       "std       0.0\n",
       "min       1.0\n",
       "25%       1.0\n",
       "50%       1.0\n",
       "75%       1.0\n",
       "max       1.0\n",
       "Name: ruTes_diff, dtype: float64"
      ]
     },
     "execution_count": 87,
     "metadata": {},
     "output_type": "execute_result"
    }
   ],
   "source": [
    "new_yarn[(new_yarn.ruTes.map(len) != 0) & (new_yarn.ruTes_diff > 0) & (new_yarn.words.str.split(';').str.len() <= 3)].ruTes_diff.describe()"
   ]
  },
  {
   "cell_type": "code",
   "execution_count": 61,
   "metadata": {
    "collapsed": false
   },
   "outputs": [
    {
     "data": {
      "text/html": [
       "<div>\n",
       "<style scoped>\n",
       "    .dataframe tbody tr th:only-of-type {\n",
       "        vertical-align: middle;\n",
       "    }\n",
       "\n",
       "    .dataframe tbody tr th {\n",
       "        vertical-align: top;\n",
       "    }\n",
       "\n",
       "    .dataframe thead th {\n",
       "        text-align: right;\n",
       "    }\n",
       "</style>\n",
       "<table border=\"1\" class=\"dataframe\">\n",
       "  <thead>\n",
       "    <tr style=\"text-align: right;\">\n",
       "      <th></th>\n",
       "      <th>words</th>\n",
       "      <th>ruTes</th>\n",
       "    </tr>\n",
       "  </thead>\n",
       "  <tbody>\n",
       "    <tr>\n",
       "      <th>1249</th>\n",
       "      <td>век;время;период;полоса;промежуток времени;сро...</td>\n",
       "      <td>[эра;век;эпоха]</td>\n",
       "    </tr>\n",
       "    <tr>\n",
       "      <th>5997</th>\n",
       "      <td>бенефис;действие;действо;зрелище;комедия;лицед...</td>\n",
       "      <td>[действо;представление;постановка]</td>\n",
       "    </tr>\n",
       "    <tr>\n",
       "      <th>5998</th>\n",
       "      <td>действие;действо;зрелище;картина;комедия;лицед...</td>\n",
       "      <td>[картина;зрелище]</td>\n",
       "    </tr>\n",
       "    <tr>\n",
       "      <th>6065</th>\n",
       "      <td>артист;виртуоз;дока;мастер;профессионал;профес...</td>\n",
       "      <td>[специалист;эксперт]</td>\n",
       "    </tr>\n",
       "    <tr>\n",
       "      <th>6105</th>\n",
       "      <td>аппаратура;арматура;инвентарь;инструментарий;о...</td>\n",
       "      <td>[инвентарь;оборудование]</td>\n",
       "    </tr>\n",
       "  </tbody>\n",
       "</table>\n",
       "</div>"
      ],
      "text/plain": [
       "                                                  words  \\\n",
       "1249  век;время;период;полоса;промежуток времени;сро...   \n",
       "5997  бенефис;действие;действо;зрелище;комедия;лицед...   \n",
       "5998  действие;действо;зрелище;картина;комедия;лицед...   \n",
       "6065  артист;виртуоз;дока;мастер;профессионал;профес...   \n",
       "6105  аппаратура;арматура;инвентарь;инструментарий;о...   \n",
       "\n",
       "                                   ruTes  \n",
       "1249                     [эра;век;эпоха]  \n",
       "5997  [действо;представление;постановка]  \n",
       "5998                   [картина;зрелище]  \n",
       "6065                [специалист;эксперт]  \n",
       "6105            [инвентарь;оборудование]  "
      ]
     },
     "execution_count": 61,
     "metadata": {},
     "output_type": "execute_result"
    }
   ],
   "source": [
    "new_yarn[new_yarn.ruTes_diff == 7][['words', 'ruTes']].head()"
   ]
  },
  {
   "cell_type": "code",
   "execution_count": 62,
   "metadata": {
    "collapsed": false
   },
   "outputs": [
    {
     "data": {
      "text/plain": [
       "('аппаратура;арматура;инвентарь;инструментарий;оборудование;оснастка;оснащение;снаряжение;снасть',\n",
       " ['инвентарь;оборудование'])"
      ]
     },
     "execution_count": 62,
     "metadata": {},
     "output_type": "execute_result"
    }
   ],
   "source": [
    "new_yarn.loc[6105].words, new_yarn.loc[6105].ruTes"
   ]
  },
  {
   "cell_type": "code",
   "execution_count": 45,
   "metadata": {
    "collapsed": false
   },
   "outputs": [
    {
     "data": {
      "text/plain": [
       "(531, 13)"
      ]
     },
     "execution_count": 45,
     "metadata": {},
     "output_type": "execute_result"
    }
   ],
   "source": [
    "new_yarn[new_yarn.ruTes.astype(bool)].shape"
   ]
  },
  {
   "cell_type": "markdown",
   "metadata": {},
   "source": [
    "## babenko"
   ]
  },
  {
   "cell_type": "code",
   "execution_count": 66,
   "metadata": {
    "collapsed": false
   },
   "outputs": [
    {
     "name": "stdout",
     "output_type": "stream",
     "text": [
      "Для 1249 синсетов подобраны синсеты Бабенко\n"
     ]
    }
   ],
   "source": [
    "print('Для {} синсетов подобраны синсеты Бабенко'.format(new_yarn[new_yarn.babenko.astype(bool)].shape[0]))"
   ]
  },
  {
   "cell_type": "code",
   "execution_count": 78,
   "metadata": {
    "collapsed": false
   },
   "outputs": [
    {
     "data": {
      "text/plain": [
       "count    90.000000\n",
       "mean      9.066667\n",
       "std       8.535188\n",
       "min       1.000000\n",
       "25%       4.000000\n",
       "50%       6.500000\n",
       "75%      10.000000\n",
       "max      37.000000\n",
       "Name: babenko_diff, dtype: float64"
      ]
     },
     "execution_count": 78,
     "metadata": {},
     "output_type": "execute_result"
    }
   ],
   "source": [
    "new_yarn[new_yarn.babenko.map(len) >= 2].babenko_diff.describe()"
   ]
  },
  {
   "cell_type": "code",
   "execution_count": 71,
   "metadata": {
    "collapsed": false
   },
   "outputs": [
    {
     "data": {
      "text/plain": [
       "count    108.000000\n",
       "mean      10.731481\n",
       "std        7.556153\n",
       "min        1.000000\n",
       "25%        5.000000\n",
       "50%        9.000000\n",
       "75%       15.250000\n",
       "max       30.000000\n",
       "Name: ruTes_diff, dtype: float64"
      ]
     },
     "execution_count": 71,
     "metadata": {},
     "output_type": "execute_result"
    }
   ],
   "source": [
    "new_yarn[(new_yarn.babenko.map(len) == 1) & (new_yarn.babenko_diff > 0)].ruTes_diff.describe()"
   ]
  },
  {
   "cell_type": "code",
   "execution_count": 86,
   "metadata": {
    "collapsed": false
   },
   "outputs": [
    {
     "data": {
      "text/plain": [
       "count    127.0\n",
       "mean       1.0\n",
       "std        0.0\n",
       "min        1.0\n",
       "25%        1.0\n",
       "50%        1.0\n",
       "75%        1.0\n",
       "max        1.0\n",
       "Name: babenko_diff, dtype: float64"
      ]
     },
     "execution_count": 86,
     "metadata": {},
     "output_type": "execute_result"
    }
   ],
   "source": [
    "new_yarn[(new_yarn.babenko.map(len) != 0) & (new_yarn.babenko_diff > 0) & (new_yarn.words.str.split(';').str.len() <= 3)].babenko_diff.describe()"
   ]
  },
  {
   "cell_type": "code",
   "execution_count": 73,
   "metadata": {
    "collapsed": false
   },
   "outputs": [
    {
     "data": {
      "text/html": [
       "<div>\n",
       "<style scoped>\n",
       "    .dataframe tbody tr th:only-of-type {\n",
       "        vertical-align: middle;\n",
       "    }\n",
       "\n",
       "    .dataframe tbody tr th {\n",
       "        vertical-align: top;\n",
       "    }\n",
       "\n",
       "    .dataframe thead th {\n",
       "        text-align: right;\n",
       "    }\n",
       "</style>\n",
       "<table border=\"1\" class=\"dataframe\">\n",
       "  <thead>\n",
       "    <tr style=\"text-align: right;\">\n",
       "      <th></th>\n",
       "      <th>words</th>\n",
       "      <th>babenko</th>\n",
       "    </tr>\n",
       "  </thead>\n",
       "  <tbody>\n",
       "    <tr>\n",
       "      <th>131</th>\n",
       "      <td>грамота;письмо;послание</td>\n",
       "      <td>[письмо;послание]</td>\n",
       "    </tr>\n",
       "    <tr>\n",
       "      <th>132</th>\n",
       "      <td>грамота;грамотка;записка;письмо;послание</td>\n",
       "      <td>[письмо;послание]</td>\n",
       "    </tr>\n",
       "    <tr>\n",
       "      <th>159</th>\n",
       "      <td>выручка;опора;поддержка;подмога;подспорье;помо...</td>\n",
       "      <td>[помощь;поддержка, помощь;содействие;поддержка]</td>\n",
       "    </tr>\n",
       "    <tr>\n",
       "      <th>164</th>\n",
       "      <td>поддержка;помощь;пособие;услуга</td>\n",
       "      <td>[помощь;поддержка]</td>\n",
       "    </tr>\n",
       "    <tr>\n",
       "      <th>194</th>\n",
       "      <td>авторитет;благородство;важность;величавость;до...</td>\n",
       "      <td>[смысл;значение]</td>\n",
       "    </tr>\n",
       "    <tr>\n",
       "      <th>266</th>\n",
       "      <td>брюки;брючки;панталоны;портки;штаны</td>\n",
       "      <td>[штаны;брюки;панталоны]</td>\n",
       "    </tr>\n",
       "    <tr>\n",
       "      <th>404</th>\n",
       "      <td>гастроном;киоск;лабаз;магазин;супермаркет;унив...</td>\n",
       "      <td>[супермаркет;магазин;универмаг;универсам]</td>\n",
       "    </tr>\n",
       "    <tr>\n",
       "      <th>465</th>\n",
       "      <td>декрет;закон;постановление;приказ;приказание;р...</td>\n",
       "      <td>[распоряжение;приказ]</td>\n",
       "    </tr>\n",
       "    <tr>\n",
       "      <th>487</th>\n",
       "      <td>династия;дом;клан;порода;род;семейство;семья;ф...</td>\n",
       "      <td>[фамилия;дом;семья;семейство]</td>\n",
       "    </tr>\n",
       "    <tr>\n",
       "      <th>489</th>\n",
       "      <td>династия;дом;клан;род;семейство;семья;фамилия</td>\n",
       "      <td>[фамилия;дом;семья;семейство]</td>\n",
       "    </tr>\n",
       "  </tbody>\n",
       "</table>\n",
       "</div>"
      ],
      "text/plain": [
       "                                                 words  \\\n",
       "131                            грамота;письмо;послание   \n",
       "132           грамота;грамотка;записка;письмо;послание   \n",
       "159  выручка;опора;поддержка;подмога;подспорье;помо...   \n",
       "164                    поддержка;помощь;пособие;услуга   \n",
       "194  авторитет;благородство;важность;величавость;до...   \n",
       "266                брюки;брючки;панталоны;портки;штаны   \n",
       "404  гастроном;киоск;лабаз;магазин;супермаркет;унив...   \n",
       "465  декрет;закон;постановление;приказ;приказание;р...   \n",
       "487  династия;дом;клан;порода;род;семейство;семья;ф...   \n",
       "489      династия;дом;клан;род;семейство;семья;фамилия   \n",
       "\n",
       "                                             babenko  \n",
       "131                                [письмо;послание]  \n",
       "132                                [письмо;послание]  \n",
       "159  [помощь;поддержка, помощь;содействие;поддержка]  \n",
       "164                               [помощь;поддержка]  \n",
       "194                                 [смысл;значение]  \n",
       "266                          [штаны;брюки;панталоны]  \n",
       "404        [супермаркет;магазин;универмаг;универсам]  \n",
       "465                            [распоряжение;приказ]  \n",
       "487                    [фамилия;дом;семья;семейство]  \n",
       "489                    [фамилия;дом;семья;семейство]  "
      ]
     },
     "execution_count": 73,
     "metadata": {},
     "output_type": "execute_result"
    }
   ],
   "source": [
    "new_yarn[new_yarn.babenko.astype(bool)].head(10)[['words', 'babenko']]"
   ]
  },
  {
   "cell_type": "markdown",
   "metadata": {},
   "source": [
    "## Evgenieva"
   ]
  },
  {
   "cell_type": "code",
   "execution_count": 74,
   "metadata": {
    "collapsed": false
   },
   "outputs": [
    {
     "name": "stdout",
     "output_type": "stream",
     "text": [
      "Для 2133 синсетов подобраны синсеты Евгеньевой\n"
     ]
    }
   ],
   "source": [
    "print('Для {} синсетов подобраны синсеты Евгеньевой'.format(new_yarn[new_yarn.evgenieva.astype(bool)].shape[0]))"
   ]
  },
  {
   "cell_type": "code",
   "execution_count": 77,
   "metadata": {
    "collapsed": false
   },
   "outputs": [
    {
     "data": {
      "text/plain": [
       "count    231.000000\n",
       "mean       7.753247\n",
       "std        5.361268\n",
       "min        1.000000\n",
       "25%        4.000000\n",
       "50%        6.000000\n",
       "75%       11.000000\n",
       "max       39.000000\n",
       "Name: evgenieva_diff, dtype: float64"
      ]
     },
     "execution_count": 77,
     "metadata": {},
     "output_type": "execute_result"
    }
   ],
   "source": [
    "new_yarn[new_yarn.evgenieva.map(len) >= 2].evgenieva_diff.describe()"
   ]
  },
  {
   "cell_type": "code",
   "execution_count": 79,
   "metadata": {
    "collapsed": false
   },
   "outputs": [
    {
     "data": {
      "text/plain": [
       "count    1456.000000\n",
       "mean        4.561126\n",
       "std         4.203791\n",
       "min         1.000000\n",
       "25%         2.000000\n",
       "50%         3.000000\n",
       "75%         6.000000\n",
       "max        36.000000\n",
       "Name: evgenieva_diff, dtype: float64"
      ]
     },
     "execution_count": 79,
     "metadata": {},
     "output_type": "execute_result"
    }
   ],
   "source": [
    "new_yarn[(new_yarn.evgenieva.map(len) == 1) & (new_yarn.evgenieva_diff > 0)].evgenieva_diff.describe()"
   ]
  },
  {
   "cell_type": "code",
   "execution_count": 85,
   "metadata": {
    "collapsed": false
   },
   "outputs": [
    {
     "data": {
      "text/plain": [
       "count    265.0\n",
       "mean       1.0\n",
       "std        0.0\n",
       "min        1.0\n",
       "25%        1.0\n",
       "50%        1.0\n",
       "75%        1.0\n",
       "max        1.0\n",
       "Name: evgenieva_diff, dtype: float64"
      ]
     },
     "execution_count": 85,
     "metadata": {},
     "output_type": "execute_result"
    }
   ],
   "source": [
    "new_yarn[(new_yarn.evgenieva.map(len) != 0) & (new_yarn.evgenieva_diff > 0) & (new_yarn.words.str.split(';').str.len() <= 3)].evgenieva_diff.describe()"
   ]
  },
  {
   "cell_type": "code",
   "execution_count": 80,
   "metadata": {
    "collapsed": false
   },
   "outputs": [
    {
     "data": {
      "text/html": [
       "<div>\n",
       "<style scoped>\n",
       "    .dataframe tbody tr th:only-of-type {\n",
       "        vertical-align: middle;\n",
       "    }\n",
       "\n",
       "    .dataframe tbody tr th {\n",
       "        vertical-align: top;\n",
       "    }\n",
       "\n",
       "    .dataframe thead th {\n",
       "        text-align: right;\n",
       "    }\n",
       "</style>\n",
       "<table border=\"1\" class=\"dataframe\">\n",
       "  <thead>\n",
       "    <tr style=\"text-align: right;\">\n",
       "      <th></th>\n",
       "      <th>words</th>\n",
       "      <th>evgenieva</th>\n",
       "    </tr>\n",
       "  </thead>\n",
       "  <tbody>\n",
       "    <tr>\n",
       "      <th>4</th>\n",
       "      <td>авто;автомашина;автомобиль;кабриолет;легковая ...</td>\n",
       "      <td>[автомобиль;машина;авто;автомашина]</td>\n",
       "    </tr>\n",
       "    <tr>\n",
       "      <th>177</th>\n",
       "      <td>жизнь;конъюнктура;обстановка;обстоятельства;об...</td>\n",
       "      <td>[обстановка;обстоятельства;ситуация;условия]</td>\n",
       "    </tr>\n",
       "    <tr>\n",
       "      <th>194</th>\n",
       "      <td>авторитет;благородство;важность;величавость;до...</td>\n",
       "      <td>[смысл;значение]</td>\n",
       "    </tr>\n",
       "    <tr>\n",
       "      <th>240</th>\n",
       "      <td>выражение;высказывание;предложение;суждение;фраза</td>\n",
       "      <td>[предложение;суждение]</td>\n",
       "    </tr>\n",
       "    <tr>\n",
       "      <th>388</th>\n",
       "      <td>пугало;чучело</td>\n",
       "      <td>[чучело;пугало]</td>\n",
       "    </tr>\n",
       "    <tr>\n",
       "      <th>441</th>\n",
       "      <td>довод;обоснование;оправдание;основание;отговор...</td>\n",
       "      <td>[смысл;резон, причина;резон;основание]</td>\n",
       "    </tr>\n",
       "    <tr>\n",
       "      <th>443</th>\n",
       "      <td>мотив;оправдание;основание;отговорка;первоприч...</td>\n",
       "      <td>[причина;резон;основание]</td>\n",
       "    </tr>\n",
       "    <tr>\n",
       "      <th>445</th>\n",
       "      <td>мотив;оправдание;основание;первопричина;повод;...</td>\n",
       "      <td>[причина;резон;основание]</td>\n",
       "    </tr>\n",
       "    <tr>\n",
       "      <th>446</th>\n",
       "      <td>мотив;обоснование;оправдание;основание;отговор...</td>\n",
       "      <td>[смысл;резон, причина;резон;основание]</td>\n",
       "    </tr>\n",
       "    <tr>\n",
       "      <th>448</th>\n",
       "      <td>мотив;основание;первопричина;повод;причина;резон</td>\n",
       "      <td>[причина;резон;основание]</td>\n",
       "    </tr>\n",
       "  </tbody>\n",
       "</table>\n",
       "</div>"
      ],
      "text/plain": [
       "                                                 words  \\\n",
       "4    авто;автомашина;автомобиль;кабриолет;легковая ...   \n",
       "177  жизнь;конъюнктура;обстановка;обстоятельства;об...   \n",
       "194  авторитет;благородство;важность;величавость;до...   \n",
       "240  выражение;высказывание;предложение;суждение;фраза   \n",
       "388                                      пугало;чучело   \n",
       "441  довод;обоснование;оправдание;основание;отговор...   \n",
       "443  мотив;оправдание;основание;отговорка;первоприч...   \n",
       "445  мотив;оправдание;основание;первопричина;повод;...   \n",
       "446  мотив;обоснование;оправдание;основание;отговор...   \n",
       "448   мотив;основание;первопричина;повод;причина;резон   \n",
       "\n",
       "                                        evgenieva  \n",
       "4             [автомобиль;машина;авто;автомашина]  \n",
       "177  [обстановка;обстоятельства;ситуация;условия]  \n",
       "194                              [смысл;значение]  \n",
       "240                        [предложение;суждение]  \n",
       "388                               [чучело;пугало]  \n",
       "441        [смысл;резон, причина;резон;основание]  \n",
       "443                     [причина;резон;основание]  \n",
       "445                     [причина;резон;основание]  \n",
       "446        [смысл;резон, причина;резон;основание]  \n",
       "448                     [причина;резон;основание]  "
      ]
     },
     "execution_count": 80,
     "metadata": {},
     "output_type": "execute_result"
    }
   ],
   "source": [
    "new_yarn[new_yarn.evgenieva.astype(bool)].head(10)[['words', 'evgenieva']]"
   ]
  },
  {
   "cell_type": "code",
   "execution_count": 81,
   "metadata": {
    "collapsed": false
   },
   "outputs": [
    {
     "data": {
      "text/plain": [
       "('авторитет;благородство;важность;величавость;добротность;достоинство;значение;значимость;пальма первенства;первенство;превосходство;предпочтение;преимущество;роль;сила;смысл;стоимость;ценность',\n",
       " ['смысл;значение'])"
      ]
     },
     "execution_count": 81,
     "metadata": {},
     "output_type": "execute_result"
    }
   ],
   "source": [
    "new_yarn.loc[194].words, new_yarn.loc[194].evgenieva"
   ]
  },
  {
   "cell_type": "code",
   "execution_count": null,
   "metadata": {
    "collapsed": true
   },
   "outputs": [],
   "source": []
  }
 ],
 "metadata": {
  "kernelspec": {
   "display_name": "Python 3",
   "language": "python",
   "name": "python3"
  },
  "language_info": {
   "codemirror_mode": {
    "name": "ipython",
    "version": 3
   },
   "file_extension": ".py",
   "mimetype": "text/x-python",
   "name": "python",
   "nbconvert_exporter": "python",
   "pygments_lexer": "ipython3",
   "version": "3.5.5"
  }
 },
 "nbformat": 4,
 "nbformat_minor": 0
}
