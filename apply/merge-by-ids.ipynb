{
 "cells": [
  {
   "cell_type": "code",
   "execution_count": 29,
   "metadata": {
    "collapsed": true
   },
   "outputs": [],
   "source": [
    "import pandas as pd\n",
    "import numpy as np\n",
    "import matplotlib.pyplot as plt \n",
    "import itertools\n",
    "import os\n",
    "import re\n",
    "pd.set_option('display.max_columns', 500)\n",
    "pd.set_option('display.max_rows', 500)\n",
    "%matplotlib inline"
   ]
  },
  {
   "cell_type": "markdown",
   "metadata": {},
   "source": [
    "Считаю все маленькие фреймы в один большой"
   ]
  },
  {
   "cell_type": "code",
   "execution_count": 3,
   "metadata": {
    "collapsed": false
   },
   "outputs": [
    {
     "data": {
      "text/plain": [
       "(339642, 3)"
      ]
     },
     "execution_count": 3,
     "metadata": {},
     "output_type": "execute_result"
    }
   ],
   "source": [
    "all_files = ['new_synsets/{}'.format(x) for x in os.listdir('new_synsets/')]\n",
    "all_data = pd.read_csv(all_files[0], index_col='Unnamed: 0')\n",
    "for file_name in all_files[1:]:\n",
    "    new_frame = pd.read_csv(file_name, index_col='Unnamed: 0')\n",
    "    all_data = all_data.append(new_frame)\n",
    "all_data.shape"
   ]
  },
  {
   "cell_type": "code",
   "execution_count": 4,
   "metadata": {
    "collapsed": false
   },
   "outputs": [
    {
     "data": {
      "text/html": [
       "<div>\n",
       "<style scoped>\n",
       "    .dataframe tbody tr th:only-of-type {\n",
       "        vertical-align: middle;\n",
       "    }\n",
       "\n",
       "    .dataframe tbody tr th {\n",
       "        vertical-align: top;\n",
       "    }\n",
       "\n",
       "    .dataframe thead th {\n",
       "        text-align: right;\n",
       "    }\n",
       "</style>\n",
       "<table border=\"1\" class=\"dataframe\">\n",
       "  <thead>\n",
       "    <tr style=\"text-align: right;\">\n",
       "      <th></th>\n",
       "      <th>yarn_id</th>\n",
       "      <th>words</th>\n",
       "      <th>def_ids</th>\n",
       "    </tr>\n",
       "  </thead>\n",
       "  <tbody>\n",
       "    <tr>\n",
       "      <th>0</th>\n",
       "      <td>1</td>\n",
       "      <td>машина;автомобиль;драндулет</td>\n",
       "      <td>71159;1797;39963</td>\n",
       "    </tr>\n",
       "    <tr>\n",
       "      <th>1</th>\n",
       "      <td>1</td>\n",
       "      <td>машина;автомашина;авто</td>\n",
       "      <td>71160;1774;1549</td>\n",
       "    </tr>\n",
       "    <tr>\n",
       "      <th>2</th>\n",
       "      <td>1</td>\n",
       "      <td>машина</td>\n",
       "      <td>71161</td>\n",
       "    </tr>\n",
       "    <tr>\n",
       "      <th>3</th>\n",
       "      <td>1</td>\n",
       "      <td>машина</td>\n",
       "      <td>71162</td>\n",
       "    </tr>\n",
       "    <tr>\n",
       "      <th>4</th>\n",
       "      <td>1</td>\n",
       "      <td>машина</td>\n",
       "      <td>71163</td>\n",
       "    </tr>\n",
       "  </tbody>\n",
       "</table>\n",
       "</div>"
      ],
      "text/plain": [
       "   yarn_id                        words           def_ids\n",
       "0        1  машина;автомобиль;драндулет  71159;1797;39963\n",
       "1        1       машина;автомашина;авто   71160;1774;1549\n",
       "2        1                       машина             71161\n",
       "3        1                       машина             71162\n",
       "4        1                       машина             71163"
      ]
     },
     "execution_count": 4,
     "metadata": {},
     "output_type": "execute_result"
    }
   ],
   "source": [
    "all_data.head(5)"
   ]
  },
  {
   "cell_type": "markdown",
   "metadata": {},
   "source": [
    "### Фильтрация"
   ]
  },
  {
   "cell_type": "markdown",
   "metadata": {},
   "source": [
    "Нужно сделать существенный препроцессинг:\n",
    "    * нужно избавиться от дубликатов по def_ids\n",
    "    * нужно избавиться от тех синсетов, к которым нет определений, то есть проставлен NAN в def_ids\n",
    "    * выбросить дубли по словам"
   ]
  },
  {
   "cell_type": "code",
   "execution_count": 5,
   "metadata": {
    "collapsed": false
   },
   "outputs": [
    {
     "name": "stdout",
     "output_type": "stream",
     "text": [
      "Синсетов без определений: 26719\n"
     ]
    },
    {
     "data": {
      "text/plain": [
       "(312923, 3)"
      ]
     },
     "execution_count": 5,
     "metadata": {},
     "output_type": "execute_result"
    }
   ],
   "source": [
    "# удаление строк без def_ids\n",
    "synsets_with_no_definitions = all_data[all_data.def_ids.isna()]\n",
    "print('Синсетов без определений: {}'.format(synsets_with_no_definitions.shape[0]))\n",
    "all_data.dropna(subset=['def_ids'], inplace=True)\n",
    "all_data.shape\n",
    "# 339642 -312923 = 26719 без определений (но могут быть дубликаты по словам)"
   ]
  },
  {
   "cell_type": "code",
   "execution_count": 6,
   "metadata": {
    "collapsed": false
   },
   "outputs": [
    {
     "data": {
      "text/plain": [
       "(116316, 3)"
      ]
     },
     "execution_count": 6,
     "metadata": {},
     "output_type": "execute_result"
    }
   ],
   "source": [
    "# удаление дублей по def_ids\n",
    "all_data['def_ids'] = all_data['def_ids'].apply(lambda x: str(x) if type(x) != str else x)\n",
    "all_data['def_ids'] = all_data['def_ids'].apply(lambda x: ';'.join(sorted(x.split(';'))))\n",
    "all_data.drop_duplicates(subset=['def_ids'], inplace=True)\n",
    "all_data.shape\n",
    "# 312923 - 116316 = 196607 выбросили"
   ]
  },
  {
   "cell_type": "code",
   "execution_count": 7,
   "metadata": {
    "collapsed": false
   },
   "outputs": [
    {
     "data": {
      "text/plain": [
       "(75661, 3)"
      ]
     },
     "execution_count": 7,
     "metadata": {},
     "output_type": "execute_result"
    }
   ],
   "source": [
    "# удаление дублей по словам\n",
    "all_data['words'] = all_data['words'].apply(lambda x: ';'.join(sorted(x.split(';'))))\n",
    "all_data.drop_duplicates(subset=['words'], inplace=True)\n",
    "all_data.shape"
   ]
  },
  {
   "cell_type": "code",
   "execution_count": 8,
   "metadata": {
    "collapsed": false
   },
   "outputs": [
    {
     "data": {
      "text/html": [
       "<div>\n",
       "<style scoped>\n",
       "    .dataframe tbody tr th:only-of-type {\n",
       "        vertical-align: middle;\n",
       "    }\n",
       "\n",
       "    .dataframe tbody tr th {\n",
       "        vertical-align: top;\n",
       "    }\n",
       "\n",
       "    .dataframe thead th {\n",
       "        text-align: right;\n",
       "    }\n",
       "</style>\n",
       "<table border=\"1\" class=\"dataframe\">\n",
       "  <thead>\n",
       "    <tr style=\"text-align: right;\">\n",
       "      <th></th>\n",
       "      <th>yarn_id</th>\n",
       "      <th>words</th>\n",
       "      <th>def_ids</th>\n",
       "    </tr>\n",
       "  </thead>\n",
       "  <tbody>\n",
       "    <tr>\n",
       "      <th>0</th>\n",
       "      <td>1</td>\n",
       "      <td>автомобиль;драндулет;машина</td>\n",
       "      <td>1797;39963;71159</td>\n",
       "    </tr>\n",
       "    <tr>\n",
       "      <th>1</th>\n",
       "      <td>1</td>\n",
       "      <td>авто;автомашина;машина</td>\n",
       "      <td>1549;1774;71160</td>\n",
       "    </tr>\n",
       "    <tr>\n",
       "      <th>2</th>\n",
       "      <td>1</td>\n",
       "      <td>машина</td>\n",
       "      <td>71161</td>\n",
       "    </tr>\n",
       "    <tr>\n",
       "      <th>5</th>\n",
       "      <td>1</td>\n",
       "      <td>тачка</td>\n",
       "      <td>179054</td>\n",
       "    </tr>\n",
       "    <tr>\n",
       "      <th>7</th>\n",
       "      <td>1</td>\n",
       "      <td>драндулет</td>\n",
       "      <td>39962</td>\n",
       "    </tr>\n",
       "  </tbody>\n",
       "</table>\n",
       "</div>"
      ],
      "text/plain": [
       "   yarn_id                        words           def_ids\n",
       "0        1  автомобиль;драндулет;машина  1797;39963;71159\n",
       "1        1       авто;автомашина;машина   1549;1774;71160\n",
       "2        1                       машина             71161\n",
       "5        1                        тачка            179054\n",
       "7        1                    драндулет             39962"
      ]
     },
     "execution_count": 8,
     "metadata": {},
     "output_type": "execute_result"
    }
   ],
   "source": [
    "all_data.head()"
   ]
  },
  {
   "cell_type": "markdown",
   "metadata": {},
   "source": [
    "### Первичный анализ отфильтрованных данных"
   ]
  },
  {
   "cell_type": "markdown",
   "metadata": {},
   "source": [
    "<p style=\"color:red\">Нигде далее не учитываются 26719 синсетов, к котогрым нет определений</p>"
   ]
  },
  {
   "cell_type": "markdown",
   "metadata": {},
   "source": [
    "Проведем первичный анализ данных"
   ]
  },
  {
   "cell_type": "markdown",
   "metadata": {},
   "source": [
    "Посчитаем длину синсетов в словах"
   ]
  },
  {
   "cell_type": "code",
   "execution_count": 39,
   "metadata": {
    "collapsed": true
   },
   "outputs": [],
   "source": [
    "all_data['length_in_words'] = all_data['words'].apply(lambda x: len(x.split(';')))\n",
    "all_data['length_in_def_ids'] = all_data['def_ids'].apply(lambda x: len(x.split(';')))"
   ]
  },
  {
   "cell_type": "code",
   "execution_count": 40,
   "metadata": {
    "collapsed": false
   },
   "outputs": [
    {
     "data": {
      "text/plain": [
       "count    75661.000000\n",
       "mean         1.825234\n",
       "std          1.125440\n",
       "min          1.000000\n",
       "25%          1.000000\n",
       "50%          2.000000\n",
       "75%          2.000000\n",
       "max         29.000000\n",
       "Name: length_in_words, dtype: float64"
      ]
     },
     "execution_count": 40,
     "metadata": {},
     "output_type": "execute_result"
    }
   ],
   "source": [
    "all_data.length_in_words.describe()"
   ]
  },
  {
   "cell_type": "markdown",
   "metadata": {},
   "source": [
    "Распределение длин синсетов в словах:"
   ]
  },
  {
   "cell_type": "code",
   "execution_count": 41,
   "metadata": {
    "collapsed": false
   },
   "outputs": [
    {
     "data": {
      "text/plain": [
       "<matplotlib.axes._subplots.AxesSubplot at 0x2179618fb70>"
      ]
     },
     "execution_count": 41,
     "metadata": {},
     "output_type": "execute_result"
    },
    {
     "data": {
      "image/png": "[encoded data removed]",
      "text/plain": [
       "<Figure size 600x400 with 1 Axes>"
      ]
     },
     "metadata": {},
     "output_type": "display_data"
    }
   ],
   "source": [
    "all_data.length_in_words.value_counts().plot.bar()"
   ]
  },
  {
   "cell_type": "code",
   "execution_count": 31,
   "metadata": {
    "collapsed": false
   },
   "outputs": [
    {
     "data": {
      "text/plain": [
       "1     33133\n",
       "2     27561\n",
       "3      9199\n",
       "4      3146\n",
       "5      1334\n",
       "6       591\n",
       "7       294\n",
       "8       157\n",
       "9        84\n",
       "10       58\n",
       "11       33\n",
       "12       22\n",
       "13       14\n",
       "14       12\n",
       "15        5\n",
       "17        5\n",
       "16        4\n",
       "19        4\n",
       "27        1\n",
       "20        1\n",
       "21        1\n",
       "24        1\n",
       "29        1\n",
       "Name: length_in_words, dtype: int64"
      ]
     },
     "execution_count": 31,
     "metadata": {},
     "output_type": "execute_result"
    }
   ],
   "source": [
    "all_data.length_in_words.value_counts()"
   ]
  },
  {
   "cell_type": "markdown",
   "metadata": {},
   "source": [
    "Посчитаем длину синсетов в количестве определений"
   ]
  },
  {
   "cell_type": "code",
   "execution_count": 32,
   "metadata": {
    "collapsed": false
   },
   "outputs": [
    {
     "data": {
      "text/plain": [
       "count    75661.000000\n",
       "mean         1.787896\n",
       "std          1.116290\n",
       "min          1.000000\n",
       "25%          1.000000\n",
       "50%          2.000000\n",
       "75%          2.000000\n",
       "max         29.000000\n",
       "Name: length_in_def_ids, dtype: float64"
      ]
     },
     "execution_count": 32,
     "metadata": {},
     "output_type": "execute_result"
    }
   ],
   "source": [
    "all_data.length_in_def_ids.describe()"
   ]
  },
  {
   "cell_type": "code",
   "execution_count": 33,
   "metadata": {
    "collapsed": false
   },
   "outputs": [
    {
     "data": {
      "text/plain": [
       "<matplotlib.axes._subplots.AxesSubplot at 0x21795fb7048>"
      ]
     },
     "execution_count": 33,
     "metadata": {},
     "output_type": "execute_result"
    },
    {
     "data": {
      "image/png": "[encoded data removed]",
      "text/plain": [
       "<Figure size 600x400 with 1 Axes>"
      ]
     },
     "metadata": {},
     "output_type": "display_data"
    }
   ],
   "source": [
    "all_data.length_in_def_ids.value_counts().plot.bar()"
   ]
  },
  {
   "cell_type": "code",
   "execution_count": 34,
   "metadata": {
    "collapsed": false
   },
   "outputs": [
    {
     "data": {
      "text/plain": [
       "1     37333\n",
       "2     25857\n",
       "3      7938\n",
       "4      2567\n",
       "5      1019\n",
       "6       431\n",
       "7       225\n",
       "8       116\n",
       "9        55\n",
       "10       39\n",
       "11       28\n",
       "12       16\n",
       "13       11\n",
       "14        9\n",
       "17        5\n",
       "15        4\n",
       "19        3\n",
       "16        2\n",
       "23        1\n",
       "21        1\n",
       "29        1\n",
       "Name: length_in_def_ids, dtype: int64"
      ]
     },
     "execution_count": 34,
     "metadata": {},
     "output_type": "execute_result"
    }
   ],
   "source": [
    "all_data.length_in_def_ids.value_counts()"
   ]
  },
  {
   "cell_type": "markdown",
   "metadata": {},
   "source": [
    "### Слияние"
   ]
  },
  {
   "cell_type": "markdown",
   "metadata": {},
   "source": [
    "Слияние проводится по def_ids"
   ]
  },
  {
   "cell_type": "markdown",
   "metadata": {},
   "source": [
    "Напишем функцию, которая заранее посчитает все сочетания C(k, n)\n",
    "В нашем случае считаем, что k = 3, n = 75661"
   ]
  },
  {
   "cell_type": "code",
   "execution_count": 32,
   "metadata": {
    "collapsed": true
   },
   "outputs": [],
   "source": [
    "def generate_combinations(max_len, of_size):\n",
    "    combinations = {}\n",
    "    for i in range(1, max_len+1):\n",
    "        combinations[i] = list(list(x) for x in itertools.combinations(range(0, i), of_size))\n",
    "    return combinations"
   ]
  },
  {
   "cell_type": "code",
   "execution_count": 60,
   "metadata": {
    "collapsed": true
   },
   "outputs": [],
   "source": [
    "combinations = generate_combinations(max_len=29, of_size=2)"
   ]
  },
  {
   "cell_type": "code",
   "execution_count": 61,
   "metadata": {
    "collapsed": false
   },
   "outputs": [
    {
     "data": {
      "text/plain": [
       "[[0, 1], [0, 2], [0, 3], [1, 2], [1, 3], [2, 3]]"
      ]
     },
     "execution_count": 61,
     "metadata": {},
     "output_type": "execute_result"
    }
   ],
   "source": [
    "combinations[4]"
   ]
  },
  {
   "cell_type": "markdown",
   "metadata": {},
   "source": [
    "Сама реализация слияния:"
   ]
  },
  {
   "cell_type": "code",
   "execution_count": 62,
   "metadata": {
    "collapsed": true
   },
   "outputs": [],
   "source": [
    "indexed_synsets = {}\n",
    "\n",
    "for _, row in all_data.iterrows():\n",
    "    def_ids = np.array(row.def_ids.split(';'))\n",
    "    words = set(row.words.split(';'))\n",
    "    how_many_combinations_need = combinations[len(def_ids)]\n",
    "    \n",
    "    # в случае, если синсет порожден двумя или одним определениями\n",
    "    if not how_many_combinations_need:\n",
    "        indexed_synsets[row.def_ids] = [words, set(def_ids)]\n",
    "        continue\n",
    "        \n",
    "    for combination in how_many_combinations_need:\n",
    "        subset = np.sort(def_ids[combination])\n",
    "        as_string = ';'.join(subset)\n",
    "        if as_string in indexed_synsets:\n",
    "            words_set, defs_set = indexed_synsets[as_string]\n",
    "            words_set.update(words)\n",
    "            defs_set.update(def_ids)\n",
    "        else:\n",
    "            indexed_synsets[as_string] = [set(words), set(def_ids)]"
   ]
  },
  {
   "cell_type": "code",
   "execution_count": 63,
   "metadata": {
    "collapsed": false
   },
   "outputs": [
    {
     "data": {
      "text/plain": [
       "112964"
      ]
     },
     "execution_count": 63,
     "metadata": {},
     "output_type": "execute_result"
    }
   ],
   "source": [
    "len(indexed_synsets)"
   ]
  },
  {
   "cell_type": "markdown",
   "metadata": {},
   "source": [
    "Преобразуем полученные данные в новый датафрейм, с которым можно работать и который можно анализировать"
   ]
  },
  {
   "cell_type": "code",
   "execution_count": 64,
   "metadata": {
    "collapsed": true
   },
   "outputs": [],
   "source": [
    "merged_by_triple_def_id = []\n",
    "new_synset = []\n",
    "new_def_ids = []\n",
    "\n",
    "for triple in indexed_synsets:\n",
    "    merged_by_triple_def_id.append(triple)\n",
    "    new_synset.append(';'.join(x for x in indexed_synsets[triple][0]))\n",
    "    new_def_ids.append(';'.join(x for x in indexed_synsets[triple][1]))\n",
    "\n",
    "new_yarn = pd.DataFrame({'triple_merged_by' : merged_by_triple_def_id, 'words' : new_synset, 'def_ids' : new_def_ids})"
   ]
  },
  {
   "cell_type": "code",
   "execution_count": 74,
   "metadata": {
    "collapsed": false
   },
   "outputs": [
    {
     "data": {
      "text/plain": [
       "(72786, 5)"
      ]
     },
     "execution_count": 74,
     "metadata": {},
     "output_type": "execute_result"
    }
   ],
   "source": [
    "new_yarn['words'] = new_yarn['words'].apply(lambda x: ';'.join(sorted(x.split(';'))))\n",
    "new_yarn.drop_duplicates(subset=['words'], inplace=True)\n",
    "new_yarn.shape"
   ]
  },
  {
   "cell_type": "code",
   "execution_count": 75,
   "metadata": {
    "collapsed": false
   },
   "outputs": [
    {
     "data": {
      "text/html": [
       "<div>\n",
       "<style scoped>\n",
       "    .dataframe tbody tr th:only-of-type {\n",
       "        vertical-align: middle;\n",
       "    }\n",
       "\n",
       "    .dataframe tbody tr th {\n",
       "        vertical-align: top;\n",
       "    }\n",
       "\n",
       "    .dataframe thead th {\n",
       "        text-align: right;\n",
       "    }\n",
       "</style>\n",
       "<table border=\"1\" class=\"dataframe\">\n",
       "  <thead>\n",
       "    <tr style=\"text-align: right;\">\n",
       "      <th></th>\n",
       "      <th>triple_merged_by</th>\n",
       "      <th>words</th>\n",
       "      <th>def_ids</th>\n",
       "      <th>length_in_words</th>\n",
       "      <th>length_in_def_ids</th>\n",
       "    </tr>\n",
       "  </thead>\n",
       "  <tbody>\n",
       "    <tr>\n",
       "      <th>0</th>\n",
       "      <td>1797;39963</td>\n",
       "      <td>автомобиль;драндулет;машина</td>\n",
       "      <td>1797;71159;39963</td>\n",
       "      <td>3</td>\n",
       "      <td>3</td>\n",
       "    </tr>\n",
       "    <tr>\n",
       "      <th>2</th>\n",
       "      <td>39963;71159</td>\n",
       "      <td>автомобиль;драндулет;машина;прибор</td>\n",
       "      <td>1797;71159;39963;108163</td>\n",
       "      <td>4</td>\n",
       "      <td>4</td>\n",
       "    </tr>\n",
       "    <tr>\n",
       "      <th>3</th>\n",
       "      <td>1549;1774</td>\n",
       "      <td>авто;автомашина;автомобиль;кабриолет;легковая ...</td>\n",
       "      <td>148085;1774;66305;1549;71160;1797;54389;167404...</td>\n",
       "      <td>10</td>\n",
       "      <td>9</td>\n",
       "    </tr>\n",
       "    <tr>\n",
       "      <th>6</th>\n",
       "      <td>71161</td>\n",
       "      <td>машина</td>\n",
       "      <td>71161</td>\n",
       "      <td>1</td>\n",
       "      <td>1</td>\n",
       "    </tr>\n",
       "    <tr>\n",
       "      <th>7</th>\n",
       "      <td>179054</td>\n",
       "      <td>тачка</td>\n",
       "      <td>179054</td>\n",
       "      <td>1</td>\n",
       "      <td>1</td>\n",
       "    </tr>\n",
       "  </tbody>\n",
       "</table>\n",
       "</div>"
      ],
      "text/plain": [
       "  triple_merged_by                                              words  \\\n",
       "0       1797;39963                        автомобиль;драндулет;машина   \n",
       "2      39963;71159                 автомобиль;драндулет;машина;прибор   \n",
       "3        1549;1774  авто;автомашина;автомобиль;кабриолет;легковая ...   \n",
       "6            71161                                             машина   \n",
       "7           179054                                              тачка   \n",
       "\n",
       "                                             def_ids  length_in_words  \\\n",
       "0                                   1797;71159;39963                3   \n",
       "2                            1797;71159;39963;108163                4   \n",
       "3  148085;1774;66305;1549;71160;1797;54389;167404...               10   \n",
       "6                                              71161                1   \n",
       "7                                             179054                1   \n",
       "\n",
       "   length_in_def_ids  \n",
       "0                  3  \n",
       "2                  4  \n",
       "3                  9  \n",
       "6                  1  \n",
       "7                  1  "
      ]
     },
     "execution_count": 75,
     "metadata": {},
     "output_type": "execute_result"
    }
   ],
   "source": [
    "new_yarn.head()"
   ]
  },
  {
   "cell_type": "markdown",
   "metadata": {},
   "source": [
    "### Базовый анализ после применения слияния по тройкам"
   ]
  },
  {
   "cell_type": "code",
   "execution_count": 42,
   "metadata": {
    "collapsed": true
   },
   "outputs": [],
   "source": [
    "new_yarn['length_in_words'] = new_yarn['words'].apply(lambda x: len(x.split(';')))\n",
    "new_yarn['length_in_def_ids'] = new_yarn['def_ids'].apply(lambda x: len(x.split(';')))"
   ]
  },
  {
   "cell_type": "code",
   "execution_count": 43,
   "metadata": {
    "collapsed": false
   },
   "outputs": [
    {
     "data": {
      "text/plain": [
       "count    72786.000000\n",
       "mean         2.220880\n",
       "std          2.489662\n",
       "min          1.000000\n",
       "25%          1.000000\n",
       "50%          2.000000\n",
       "75%          2.000000\n",
       "max         45.000000\n",
       "Name: length_in_words, dtype: float64"
      ]
     },
     "execution_count": 43,
     "metadata": {},
     "output_type": "execute_result"
    }
   ],
   "source": [
    "new_yarn.length_in_words.describe()"
   ]
  },
  {
   "cell_type": "code",
   "execution_count": 44,
   "metadata": {
    "collapsed": false
   },
   "outputs": [
    {
     "data": {
      "text/plain": [
       "<matplotlib.axes._subplots.AxesSubplot at 0x21796a4ee80>"
      ]
     },
     "execution_count": 44,
     "metadata": {},
     "output_type": "execute_result"
    },
    {
     "data": {
      "image/png": "[encoded data removed]",
      "text/plain": [
       "<Figure size 1500x500 with 1 Axes>"
      ]
     },
     "metadata": {},
     "output_type": "display_data"
    }
   ],
   "source": [
    "new_yarn.length_in_words.value_counts().plot.bar(figsize=(15, 5))"
   ]
  },
  {
   "cell_type": "code",
   "execution_count": 45,
   "metadata": {
    "collapsed": false
   },
   "outputs": [
    {
     "data": {
      "text/plain": [
       "1     35505\n",
       "2     21417\n",
       "3      6852\n",
       "4      3064\n",
       "5      1701\n",
       "6      1055\n",
       "7       754\n",
       "8       570\n",
       "9       381\n",
       "10      287\n",
       "11      215\n",
       "12      191\n",
       "13      135\n",
       "14      125\n",
       "15       93\n",
       "16       73\n",
       "17       55\n",
       "18       38\n",
       "19       37\n",
       "20       29\n",
       "31       18\n",
       "30       17\n",
       "25       17\n",
       "33       16\n",
       "21       15\n",
       "23       15\n",
       "29       14\n",
       "22       13\n",
       "27       13\n",
       "28       13\n",
       "32       13\n",
       "24       12\n",
       "26        9\n",
       "34        7\n",
       "36        5\n",
       "35        4\n",
       "37        4\n",
       "43        1\n",
       "38        1\n",
       "41        1\n",
       "45        1\n",
       "Name: length_in_words, dtype: int64"
      ]
     },
     "execution_count": 45,
     "metadata": {},
     "output_type": "execute_result"
    }
   ],
   "source": [
    "new_yarn.length_in_words.value_counts()"
   ]
  },
  {
   "cell_type": "markdown",
   "metadata": {},
   "source": [
    "### Сохранение результата"
   ]
  },
  {
   "cell_type": "code",
   "execution_count": 80,
   "metadata": {
    "collapsed": false
   },
   "outputs": [
    {
     "data": {
      "text/plain": [
       "(215, 5)"
      ]
     },
     "execution_count": 80,
     "metadata": {},
     "output_type": "execute_result"
    }
   ],
   "source": [
    "d = new_yarn[new_yarn.length_in_words == 11]\n",
    "d.shape"
   ]
  },
  {
   "cell_type": "code",
   "execution_count": 81,
   "metadata": {
    "collapsed": false
   },
   "outputs": [
    {
     "data": {
      "text/html": [
       "<div>\n",
       "<style scoped>\n",
       "    .dataframe tbody tr th:only-of-type {\n",
       "        vertical-align: middle;\n",
       "    }\n",
       "\n",
       "    .dataframe tbody tr th {\n",
       "        vertical-align: top;\n",
       "    }\n",
       "\n",
       "    .dataframe thead th {\n",
       "        text-align: right;\n",
       "    }\n",
       "</style>\n",
       "<table border=\"1\" class=\"dataframe\">\n",
       "  <thead>\n",
       "    <tr style=\"text-align: right;\">\n",
       "      <th></th>\n",
       "      <th>triple_merged_by</th>\n",
       "      <th>words</th>\n",
       "      <th>def_ids</th>\n",
       "      <th>length_in_words</th>\n",
       "      <th>length_in_def_ids</th>\n",
       "    </tr>\n",
       "  </thead>\n",
       "  <tbody>\n",
       "    <tr>\n",
       "      <th>273</th>\n",
       "      <td>119880;89244</td>\n",
       "      <td>доказательство;мотив;обоснование;оправдание;ос...</td>\n",
       "      <td>89244;172611;74182;84872;88145;171132;110450;1...</td>\n",
       "      <td>11</td>\n",
       "      <td>12</td>\n",
       "    </tr>\n",
       "    <tr>\n",
       "      <th>928</th>\n",
       "      <td>117280;84111</td>\n",
       "      <td>государство;губерния;край;круг;место;область;о...</td>\n",
       "      <td>182520;84111;145594;72008;62625;133657;63442;3...</td>\n",
       "      <td>11</td>\n",
       "      <td>11</td>\n",
       "    </tr>\n",
       "    <tr>\n",
       "      <th>1190</th>\n",
       "      <td>167166;167740</td>\n",
       "      <td>детка;карапуз;клоп;кроха;крошка;малолеток;малы...</td>\n",
       "      <td>36646;176255;167166;167705;69762;58479;119473;...</td>\n",
       "      <td>11</td>\n",
       "      <td>11</td>\n",
       "    </tr>\n",
       "    <tr>\n",
       "      <th>1223</th>\n",
       "      <td>167165;167181</td>\n",
       "      <td>капелька;капля;кроха;крохотка;крошка;крупинка;...</td>\n",
       "      <td>138486;167169;154484;166351;169422;69727;16716...</td>\n",
       "      <td>11</td>\n",
       "      <td>11</td>\n",
       "    </tr>\n",
       "    <tr>\n",
       "      <th>1470</th>\n",
       "      <td>67482;67508</td>\n",
       "      <td>индивид;индивидуальность;лицо;личность;особа;п...</td>\n",
       "      <td>52240;146758;52227;134327;135134;67508;178842;...</td>\n",
       "      <td>11</td>\n",
       "      <td>11</td>\n",
       "    </tr>\n",
       "  </tbody>\n",
       "</table>\n",
       "</div>"
      ],
      "text/plain": [
       "     triple_merged_by                                              words  \\\n",
       "273      119880;89244  доказательство;мотив;обоснование;оправдание;ос...   \n",
       "928      117280;84111  государство;губерния;край;круг;место;область;о...   \n",
       "1190    167166;167740  детка;карапуз;клоп;кроха;крошка;малолеток;малы...   \n",
       "1223    167165;167181  капелька;капля;кроха;крохотка;крошка;крупинка;...   \n",
       "1470      67482;67508  индивид;индивидуальность;лицо;личность;особа;п...   \n",
       "\n",
       "                                                def_ids  length_in_words  \\\n",
       "273   89244;172611;74182;84872;88145;171132;110450;1...               11   \n",
       "928   182520;84111;145594;72008;62625;133657;63442;3...               11   \n",
       "1190  36646;176255;167166;167705;69762;58479;119473;...               11   \n",
       "1223  138486;167169;154484;166351;169422;69727;16716...               11   \n",
       "1470  52240;146758;52227;134327;135134;67508;178842;...               11   \n",
       "\n",
       "      length_in_def_ids  \n",
       "273                  12  \n",
       "928                  11  \n",
       "1190                 11  \n",
       "1223                 11  \n",
       "1470                 11  "
      ]
     },
     "execution_count": 81,
     "metadata": {},
     "output_type": "execute_result"
    }
   ],
   "source": [
    "d.head()"
   ]
  },
  {
   "cell_type": "code",
   "execution_count": 82,
   "metadata": {
    "collapsed": false
   },
   "outputs": [
    {
     "data": {
      "text/plain": [
       "'детка;карапуз;клоп;кроха;крошка;малолеток;малыш;малышня;малютка;ребенок;ребятня'"
      ]
     },
     "execution_count": 82,
     "metadata": {},
     "output_type": "execute_result"
    }
   ],
   "source": [
    "new_yarn.loc[1190].words"
   ]
  },
  {
   "cell_type": "code",
   "execution_count": 83,
   "metadata": {
    "collapsed": false
   },
   "outputs": [
    {
     "data": {
      "text/plain": [
       "'капелька;капля;кроха;крохотка;крошка;крупинка;крупица;малость;немного;толика;чуточка'"
      ]
     },
     "execution_count": 83,
     "metadata": {},
     "output_type": "execute_result"
    }
   ],
   "source": [
    "new_yarn.loc[1223].words"
   ]
  },
  {
   "cell_type": "markdown",
   "metadata": {},
   "source": [
    "Отдельно сохраню данный файл, new_yarn.csv\n",
    "Отдельно сохраню файл с синсетами, которые не обработались, таких 26719"
   ]
  },
  {
   "cell_type": "code",
   "execution_count": 84,
   "metadata": {
    "collapsed": true
   },
   "outputs": [],
   "source": [
    "new_yarn.to_csv('new_yarn.csv',encoding='utf-8')\n",
    "synsets_with_no_definitions.to_csv('synsets_with_no_defs', encoding='utf-8')"
   ]
  },
  {
   "cell_type": "code",
   "execution_count": null,
   "metadata": {
    "collapsed": true
   },
   "outputs": [],
   "source": []
  },
  {
   "cell_type": "code",
   "execution_count": 85,
   "metadata": {
    "collapsed": true
   },
   "outputs": [],
   "source": [
    "new_yarn = pd.read_csv('new_yarn.csv')\n",
    "synsets_with_no_definitions = pd.read_csv('synsets_with_no_defs')\n",
    "yarn = pd.read_csv('yarn-synsets.csv')"
   ]
  },
  {
   "cell_type": "code",
   "execution_count": 86,
   "metadata": {
    "collapsed": false
   },
   "outputs": [
    {
     "name": "stdout",
     "output_type": "stream",
     "text": [
      "(26719, 4)\n",
      "(26021, 4)\n"
     ]
    }
   ],
   "source": [
    "print(synsets_with_no_definitions.shape)\n",
    "synsets_with_no_definitions['words'] = synsets_with_no_definitions['words'].apply(lambda x: ';'.join(sorted(x.split(';'))))\n",
    "synsets_with_no_definitions.drop_duplicates(subset=['words'], inplace=True)\n",
    "print(synsets_with_no_definitions.shape)"
   ]
  },
  {
   "cell_type": "code",
   "execution_count": 87,
   "metadata": {
    "collapsed": false
   },
   "outputs": [],
   "source": [
    "synsets_with_no_definitions['length_in_words'] = synsets_with_no_definitions['words'].apply(lambda x: len(x.split(';')))\n",
    "synsets_with_no_definitions['words_count'] = synsets_with_no_definitions['words'].apply(lambda x: len(re.split('[; ]', x)))"
   ]
  },
  {
   "cell_type": "code",
   "execution_count": 88,
   "metadata": {
    "collapsed": false
   },
   "outputs": [
    {
     "data": {
      "text/plain": [
       "count    26021.000000\n",
       "mean         1.164367\n",
       "std          0.734093\n",
       "min          1.000000\n",
       "25%          1.000000\n",
       "50%          1.000000\n",
       "75%          1.000000\n",
       "max         34.000000\n",
       "Name: length_in_words, dtype: float64"
      ]
     },
     "execution_count": 88,
     "metadata": {},
     "output_type": "execute_result"
    }
   ],
   "source": [
    "synsets_with_no_definitions.length_in_words.describe()"
   ]
  },
  {
   "cell_type": "code",
   "execution_count": 89,
   "metadata": {
    "collapsed": false
   },
   "outputs": [
    {
     "data": {
      "text/plain": [
       "<matplotlib.axes._subplots.AxesSubplot at 0x217989a8da0>"
      ]
     },
     "execution_count": 89,
     "metadata": {},
     "output_type": "execute_result"
    },
    {
     "data": {
      "image/png": "[encoded data removed]",
      "text/plain": [
       "<Figure size 1500x500 with 1 Axes>"
      ]
     },
     "metadata": {},
     "output_type": "display_data"
    }
   ],
   "source": [
    "synsets_with_no_definitions.length_in_words.value_counts().plot.bar(figsize=(15, 5))"
   ]
  },
  {
   "cell_type": "code",
   "execution_count": 90,
   "metadata": {
    "collapsed": false
   },
   "outputs": [
    {
     "data": {
      "text/plain": [
       "count    26021.000000\n",
       "mean         2.218285\n",
       "std          1.459235\n",
       "min          1.000000\n",
       "25%          2.000000\n",
       "50%          2.000000\n",
       "75%          2.000000\n",
       "max         51.000000\n",
       "Name: words_count, dtype: float64"
      ]
     },
     "execution_count": 90,
     "metadata": {},
     "output_type": "execute_result"
    }
   ],
   "source": [
    "synsets_with_no_definitions.words_count.describe()"
   ]
  },
  {
   "cell_type": "code",
   "execution_count": 91,
   "metadata": {
    "collapsed": false
   },
   "outputs": [
    {
     "data": {
      "text/plain": [
       "<matplotlib.axes._subplots.AxesSubplot at 0x21797eac438>"
      ]
     },
     "execution_count": 91,
     "metadata": {},
     "output_type": "execute_result"
    },
    {
     "data": {
      "image/png": "[encoded data removed]",
      "text/plain": [
       "<Figure size 1500x500 with 1 Axes>"
      ]
     },
     "metadata": {},
     "output_type": "display_data"
    }
   ],
   "source": [
    "synsets_with_no_definitions.words_count.value_counts().plot.bar(figsize=(15, 5))"
   ]
  },
  {
   "cell_type": "code",
   "execution_count": 92,
   "metadata": {
    "collapsed": true
   },
   "outputs": [],
   "source": [
    "new_yarn = pd.concat([new_yarn, synsets_with_no_definitions], sort=False)"
   ]
  },
  {
   "cell_type": "code",
   "execution_count": 99,
   "metadata": {
    "collapsed": true
   },
   "outputs": [],
   "source": [
    "new_yarn['length_in_words'] = new_yarn['words'].apply(lambda x: len(x.split(';')))\n",
    "yarn['length_in_words'] = yarn['words'].apply(lambda x: len(x.split(';')))"
   ]
  },
  {
   "cell_type": "code",
   "execution_count": 100,
   "metadata": {
    "collapsed": false
   },
   "outputs": [
    {
     "data": {
      "text/plain": [
       "count    98807.000000\n",
       "mean         1.942646\n",
       "std          2.219121\n",
       "min          1.000000\n",
       "25%          1.000000\n",
       "50%          1.000000\n",
       "75%          2.000000\n",
       "max         45.000000\n",
       "Name: length_in_words, dtype: float64"
      ]
     },
     "execution_count": 100,
     "metadata": {},
     "output_type": "execute_result"
    }
   ],
   "source": [
    "new_yarn.length_in_words.describe()"
   ]
  },
  {
   "cell_type": "code",
   "execution_count": 102,
   "metadata": {
    "collapsed": false
   },
   "outputs": [
    {
     "data": {
      "text/plain": [
       "<matplotlib.axes._subplots.AxesSubplot at 0x21798e99240>"
      ]
     },
     "execution_count": 102,
     "metadata": {},
     "output_type": "execute_result"
    },
    {
     "data": {
      "image/png": "[encoded data removed]",
      "text/plain": [
       "<Figure size 1500x500 with 1 Axes>"
      ]
     },
     "metadata": {},
     "output_type": "display_data"
    }
   ],
   "source": [
    "new_yarn.length_in_words.value_counts().plot.bar(figsize=(15, 5))"
   ]
  },
  {
   "cell_type": "code",
   "execution_count": 101,
   "metadata": {
    "collapsed": false
   },
   "outputs": [
    {
     "data": {
      "text/plain": [
       "count    69765.000000\n",
       "mean         2.642127\n",
       "std          2.521333\n",
       "min          1.000000\n",
       "25%          1.000000\n",
       "50%          2.000000\n",
       "75%          3.000000\n",
       "max         64.000000\n",
       "Name: length_in_words, dtype: float64"
      ]
     },
     "execution_count": 101,
     "metadata": {},
     "output_type": "execute_result"
    }
   ],
   "source": [
    "yarn.length_in_words.describe()"
   ]
  },
  {
   "cell_type": "code",
   "execution_count": 103,
   "metadata": {
    "collapsed": false
   },
   "outputs": [
    {
     "data": {
      "text/plain": [
       "<matplotlib.axes._subplots.AxesSubplot at 0x217992edd68>"
      ]
     },
     "execution_count": 103,
     "metadata": {},
     "output_type": "execute_result"
    },
    {
     "data": {
      "image/png": "[encoded data removed]",
      "text/plain": [
       "<Figure size 1500x500 with 1 Axes>"
      ]
     },
     "metadata": {},
     "output_type": "display_data"
    }
   ],
   "source": [
    "yarn.length_in_words.value_counts().plot.bar(figsize=(15, 5))"
   ]
  },
  {
   "cell_type": "code",
   "execution_count": null,
   "metadata": {
    "collapsed": true
   },
   "outputs": [],
   "source": [
    "19,театр;сцена;эстрада;балет,n,\n",
    "61,11965;159357,балет;эстрада,159357;11965,2,2\n",
    "62,11966;137006,балет;театр;эстрада,11966;137006;159356,3,3\n",
    "65,11967,балет,11967,1,1\n",
    "66,11968;135317,балет;сцена;театр,11968;135317;137008,3,3\n",
    "69,135318;137007,сцена;театр,137007;135318,2,2\n",
    "\n",
    "297,38,собака;четвероногий друг,129647;185466\n",
    "305,38,дворняжка;кобель;псина;пёс,35310;58734;114001;182908\n",
    "\n"
   ]
  }
 ],
 "metadata": {
  "kernelspec": {
   "display_name": "Python 3",
   "language": "python",
   "name": "python3"
  },
  "language_info": {
   "codemirror_mode": {
    "name": "ipython",
    "version": 3
   },
   "file_extension": ".py",
   "mimetype": "text/x-python",
   "name": "python",
   "nbconvert_exporter": "python",
   "pygments_lexer": "ipython3",
   "version": "3.5.5"
  }
 },
 "nbformat": 4,
 "nbformat_minor": 2
}
